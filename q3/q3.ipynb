{
 "cells": [
  {
   "cell_type": "code",
   "execution_count": 2,
   "id": "6f501836",
   "metadata": {
    "scrolled": true
   },
   "outputs": [
    {
     "name": "stdout",
     "output_type": "stream",
     "text": [
      "*** Subway Report for Seoul on March 2023 ***\n",
      "1st Busiest Line: Line 2 (85620512)\n",
      "2nd Busiest Line: Line 5 (39671990)\n",
      "1st Least used Line: Line 8 (11863928)\n",
      "2nd Least used Line: Line 1 (14705833)\n"
     ]
    }
   ],
   "source": [
    "import csv\n",
    "\n",
    "\n",
    "f = open('q3.csv', 'r', encoding='cp949')\n",
    "data = csv.reader(f, delimiter=',')\n",
    "header = next(data)\n",
    "if __name__ == \"__main__\":\n",
    "    li = [0,0,0,0,0,0,0,0,0]\n",
    "    li2 = [0,0,0,0,0,0,0,0,0]\n",
    "    \n",
    "    for row in data:\n",
    "        row[4] = int(row[4])\n",
    "        row[5] = int(row[5])\n",
    "        if(row[1] == '1호선'):\n",
    "            li[0] = li[0] + row[4] + row[5]\n",
    "        elif(row[1] == '2호선'):\n",
    "            li[1] = li[1] + row[4] + row[5]\n",
    "        elif(row[1] == '3호선'):\n",
    "            li[2] = li[2] + row[4] + row[5]\n",
    "        elif(row[1] == '4호선'):\n",
    "            li[3] = li[3] + row[4] + row[5]\n",
    "        elif(row[1] == '5호선'):\n",
    "            li[4] = li[4] + row[4] + row[5]\n",
    "        elif(row[1] == '6호선'):\n",
    "            li[5] = li[5] + row[4] + row[5]\n",
    "        elif(row[1] == '7호선'):\n",
    "            li[6] = li[6] + row[4] + row[5]\n",
    "        elif(row[1] == '8호선'):\n",
    "            li[7] = li[7] + row[4] + row[5]\n",
    "        elif(row[1] == '9호선'):\n",
    "            li[8] = li[8] + row[4] + row[5]\n",
    "        \n",
    "        cnt = 0\n",
    "        for i in li:\n",
    "            li2[cnt] = i\n",
    "            cnt = cnt + 1\n",
    "    \n",
    "    li.sort()\n",
    "    \n",
    "    print(\"*** Subway Report for Seoul on March 2023 ***\")\n",
    "    print(\"1st Busiest Line: Line {0:d} ({1:d})\".format(li2.index(li[8]) + 1, li[8]))\n",
    "    print(\"2nd Busiest Line: Line {0:d} ({1:d})\".format(li2.index(li[7]) + 1, li[7]))\n",
    "    print(\"1st Least used Line: Line {0:d} ({1:d})\".format(li2.index(li[0])+ 1, li[0]))\n",
    "    print(\"2nd Least used Line: Line {0:d} ({1:d})\".format(li2.index(li[1])+ 1, li[1]))\n",
    "       "
   ]
  },
  {
   "cell_type": "code",
   "execution_count": null,
   "id": "ab837604",
   "metadata": {},
   "outputs": [],
   "source": []
  }
 ],
 "metadata": {
  "kernelspec": {
   "display_name": "Python 3 (ipykernel)",
   "language": "python",
   "name": "python3"
  },
  "language_info": {
   "codemirror_mode": {
    "name": "ipython",
    "version": 3
   },
   "file_extension": ".py",
   "mimetype": "text/x-python",
   "name": "python",
   "nbconvert_exporter": "python",
   "pygments_lexer": "ipython3",
   "version": "3.9.13"
  }
 },
 "nbformat": 4,
 "nbformat_minor": 5
}
