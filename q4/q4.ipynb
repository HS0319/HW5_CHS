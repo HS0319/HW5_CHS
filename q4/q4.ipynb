{
 "cells": [
  {
   "cell_type": "code",
   "execution_count": 3,
   "id": "de01c73e",
   "metadata": {},
   "outputs": [
    {
     "name": "stdout",
     "output_type": "stream",
     "text": [
      "*** Subway Report for Seoul on March 2023 ***\n",
      "Line 1:\n",
      "Busiest Line: 서울역 (3084227)\n",
      "Least used Line: 동묘앞 (658566)\n",
      "Line 2:\n",
      "Busiest Line: 강남 (4690366)\n",
      "Least used Line: 도림천 (80084)\n",
      "Line 3:\n",
      "Busiest Line: 고속터미널 (2886887)\n",
      "Least used Line: 충무로 (48)\n",
      "Line 4:\n",
      "Busiest Line: 혜화 (2286709)\n",
      "Least used Line: 남태령 (79916)\n"
     ]
    }
   ],
   "source": [
    "import csv\n",
    "\n",
    "\n",
    "f = open('q4.csv', 'r', encoding='cp949')\n",
    "data = csv.reader(f, delimiter=',')\n",
    "header = next(data)\n",
    "if __name__ == \"__main__\":\n",
    "    dict1 = {}\n",
    "    dict2 = {}\n",
    "    dict3 = {}\n",
    "    dict4 = {}\n",
    "    \n",
    "    \n",
    "    for row in data:\n",
    "        row[4] = int(row[4])\n",
    "        row[5] = int(row[5])\n",
    "        if(row[1] == '1호선'):\n",
    "            dict1[row[3]] = row[4]+row[5]\n",
    "        elif(row[1] == '2호선'):\n",
    "            dict2[row[3]] = row[4]+row[5]\n",
    "        elif(row[1] == '3호선'):\n",
    "            dict3[row[3]] = row[4]+row[5]\n",
    "        elif(row[1] == '4호선'):\n",
    "            dict4[row[3]] = row[4]+row[5]\n",
    "            \n",
    "        reverse_dict1 = dict(map(reversed, dict1.items()))\n",
    "        reverse_dict2 = dict(map(reversed, dict2.items()))\n",
    "        reverse_dict3 = dict(map(reversed, dict3.items()))\n",
    "        reverse_dict4 = dict(map(reversed, dict4.items()))\n",
    "        \n",
    "        cp_1 = list(dict1.values())\n",
    "        cp_2 = list(dict2.values())\n",
    "        cp_3 = list(dict3.values())\n",
    "        cp_4 = list(dict4.values())\n",
    "        \n",
    "        cp_1.sort()\n",
    "        cp_2.sort()\n",
    "        cp_3.sort()\n",
    "        cp_4.sort()\n",
    "        \n",
    "    \n",
    "\n",
    "    print(\"*** Subway Report for Seoul on March 2023 ***\")\n",
    "    print(\"Line 1:\")\n",
    "    print(\"Busiest Station: {0:s} ({1:d})\".format(reverse_dict1.get(cp_1[-1]), cp_1[-1]))\n",
    "    print(\"Least used Station: {0:s} ({1:d})\".format(reverse_dict1.get(cp_1[0]), cp_1[0]))\n",
    "\n",
    "    \n",
    "    print(\"Line 2:\")\n",
    "    print(\"Busiest Station: {0:s} ({1:d})\".format(reverse_dict2.get(cp_2[-1]), cp_2[-1]))\n",
    "    print(\"Least used Station: {0:s} ({1:d})\".format(reverse_dict2.get(cp_2[0]), cp_2[0]))\n",
    "\n",
    "    \n",
    "    print(\"Line 3:\")\n",
    "    print(\"Busiest Station: {0:s} ({1:d})\".format(reverse_dict3.get(cp_3[-1]), cp_3[-1]))\n",
    "    print(\"Least used Station: {0:s} ({1:d})\".format(reverse_dict3.get(cp_3[0]), cp_3[0]))\n",
    "\n",
    "    \n",
    "    print(\"Line 4:\")\n",
    "    print(\"Busiest Station: {0:s} ({1:d})\".format(reverse_dict4.get(cp_4[-1]), cp_4[-1]))\n",
    "    print(\"Least used Station: {0:s} ({1:d})\".format(reverse_dict4.get(cp_4[0]), cp_4[0]))\n",
    "\n",
    "    \n",
    " "
   ]
  }
 ],
 "metadata": {
  "kernelspec": {
   "display_name": "Python 3 (ipykernel)",
   "language": "python",
   "name": "python3"
  },
  "language_info": {
   "codemirror_mode": {
    "name": "ipython",
    "version": 3
   },
   "file_extension": ".py",
   "mimetype": "text/x-python",
   "name": "python",
   "nbconvert_exporter": "python",
   "pygments_lexer": "ipython3",
   "version": "3.9.13"
  }
 },
 "nbformat": 4,
 "nbformat_minor": 5
}
