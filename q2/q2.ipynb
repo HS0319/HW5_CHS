{
 "cells": [
  {
   "cell_type": "code",
   "execution_count": 3,
   "id": "7dbe8f04",
   "metadata": {},
   "outputs": [
    {
     "name": "stdout",
     "output_type": "stream",
     "text": [
      "*** Annual Temperature Report for Seoul in 2022 ***\n",
      "Day with the Largest Temperature Variation: 2022-11-29\n",
      "Maximum Temperature Difference: 16.6 Celsius\n",
      "Day with the Smallest Temperature Variation: 2022-06-29\n",
      "Maximum Temperature Difference: 1.7 Celsius\n"
     ]
    }
   ],
   "source": [
    "import csv\n",
    "\n",
    "f = open('q2.csv', 'r', encoding='cp949')\n",
    "data = csv.reader(f, delimiter=',')\n",
    "header = next(data)\n",
    "if __name__ == \"__main__\":\n",
    "    ltv = 0\n",
    "    stv = 999\n",
    "    ltv_date = ''\n",
    "    stv_date = ''\n",
    "    \n",
    "    \n",
    "    for row in data:\n",
    "        x = 0\n",
    "        if row[2] == '':\n",
    "            row[2] = 0\n",
    "            x= x+1\n",
    "        if row[3] == '':\n",
    "            row[3] = 0\n",
    "            x= x+1\n",
    "        if row[4] == '':\n",
    "            row[4] = 0\n",
    "            x= x+1   \n",
    "        row[2] = float(row[2])\n",
    "        row[3] = float(row[3])\n",
    "        row[4] = float(row[4])\n",
    "        if(x == 0):\n",
    "            if(row[4]-row[3] > ltv):\n",
    "                ltv = row[4]-row[3]\n",
    "                ltv_date = row[0]\n",
    "            if(row[4]-row[3] < stv):\n",
    "                stv = row[4]-row[3]\n",
    "                stv_date = row[0]\n",
    "    \n",
    "    print(\"*** Annual Temperature Report for Seoul in 2022 ***\")\n",
    "    print(\"Day with the Largest Temperature Variation: {0:s}\".format(ltv_date))\n",
    "    print(\"Maximum Temperature Difference: {0:.1f} Celsius\".format(ltv))\n",
    "    print(\"Day with the Smallest Temperature Variation: {0:s}\".format(stv_date))\n",
    "    print(\"Maximum Temperature Difference: {0:.1f} Celsius\".format(stv))\n",
    "\n",
    "\n",
    "    "
   ]
  },
  {
   "cell_type": "code",
   "execution_count": null,
   "id": "38bdb2cb",
   "metadata": {},
   "outputs": [],
   "source": []
  }
 ],
 "metadata": {
  "kernelspec": {
   "display_name": "Python 3 (ipykernel)",
   "language": "python",
   "name": "python3"
  },
  "language_info": {
   "codemirror_mode": {
    "name": "ipython",
    "version": 3
   },
   "file_extension": ".py",
   "mimetype": "text/x-python",
   "name": "python",
   "nbconvert_exporter": "python",
   "pygments_lexer": "ipython3",
   "version": "3.9.13"
  }
 },
 "nbformat": 4,
 "nbformat_minor": 5
}
