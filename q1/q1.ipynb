{
 "cells": [
  {
   "cell_type": "code",
   "execution_count": 1,
   "id": "6f667c96",
   "metadata": {},
   "outputs": [
    {
     "name": "stdout",
     "output_type": "stream",
     "text": [
      "*** Annual Temperature Report for Seoul in 2022 ***\n",
      "Average Temperature: 13.26 Celsius\n",
      "Average Minimum Temperature: 9.21 Celsius\n",
      "Average Maximum Temperature: 18.05 Celsius\n"
     ]
    }
   ],
   "source": [
    "import csv\n",
    "\n",
    "\n",
    "f = open('q1.csv', 'r', encoding='cp949')\n",
    "data = csv.reader(f, delimiter=',')\n",
    "header = next(data)\n",
    "if __name__ == \"__main__\":\n",
    "    avg_sum = 0\n",
    "    min_sum = 0\n",
    "    max_sum = 0\n",
    "    cnt = 0\n",
    "    \n",
    "    for row in data:\n",
    "        x = 0\n",
    "        if row[2] == '':\n",
    "            row[2] = 0\n",
    "            x= x+1\n",
    "        if row[3] == '':\n",
    "            row[3] = 0\n",
    "            x= x+1\n",
    "        if row[4] == '':\n",
    "            row[4] = 0\n",
    "            x= x+1   \n",
    "        row[2] = float(row[2])\n",
    "        row[3] = float(row[3])\n",
    "        row[4] = float(row[4])\n",
    "        if(x == 0):\n",
    "            cnt = cnt + 1\n",
    "            avg_sum = avg_sum + row[2]\n",
    "            min_sum = min_sum + row[3]\n",
    "            max_sum = max_sum + row[4]\n",
    "    \n",
    "    avg_temp = avg_sum / cnt\n",
    "    min_temp = min_sum / cnt\n",
    "    max_temp = max_sum / cnt\n",
    "    print(\"*** Annual Temperature Report for Seoul in 2022 ***\")\n",
    "    print(\"Average Temperature: {0:.2f} Celsius\".format(avg_temp))\n",
    "    print(\"Average Minimum Temperature: {0:.2f} Celsius\".format(min_temp))\n",
    "    print(\"Average Maximum Temperature: {0:.2f} Celsius\".format(max_temp))\n",
    "\n",
    "\n",
    "    "
   ]
  },
  {
   "cell_type": "code",
   "execution_count": null,
   "id": "a27ec2e1",
   "metadata": {},
   "outputs": [],
   "source": []
  }
 ],
 "metadata": {
  "kernelspec": {
   "display_name": "Python 3 (ipykernel)",
   "language": "python",
   "name": "python3"
  },
  "language_info": {
   "codemirror_mode": {
    "name": "ipython",
    "version": 3
   },
   "file_extension": ".py",
   "mimetype": "text/x-python",
   "name": "python",
   "nbconvert_exporter": "python",
   "pygments_lexer": "ipython3",
   "version": "3.9.13"
  }
 },
 "nbformat": 4,
 "nbformat_minor": 5
}
